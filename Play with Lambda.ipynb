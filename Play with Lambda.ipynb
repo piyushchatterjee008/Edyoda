{
 "cells": [
  {
   "cell_type": "code",
   "execution_count": 4,
   "id": "d7ee974a",
   "metadata": {},
   "outputs": [
    {
     "name": "stdout",
     "output_type": "stream",
     "text": [
      "35\n"
     ]
    }
   ],
   "source": [
    "'''\n",
    "question 1:\n",
    "\n",
    "Write a Python program to create a lambda function that adds 25 to a given number passed in as an argument.\n",
    "\n",
    "sample input: 10\n",
    "\n",
    "sample output: 35\n",
    "'''\n",
    "\n",
    "x = lambda a: a+25\n",
    "\n",
    "print(x(10))\n"
   ]
  },
  {
   "cell_type": "code",
   "execution_count": 19,
   "id": "a65e21a6",
   "metadata": {},
   "outputs": [
    {
     "name": "stdout",
     "output_type": "stream",
     "text": [
      "[3, 6, 9, 12, 15, 18, 21]\n"
     ]
    }
   ],
   "source": [
    "'''\n",
    "question 2:\n",
    "\n",
    "Write a Python program to triple all numbers of a given list of integers. Use Python map.\n",
    "\n",
    "sample list: [1, 2, 3, 4, 5, 6, 7]\n",
    "\n",
    "Triple of list numbers:\n",
    "\n",
    "[3, 6, 9, 12, 15, 18, 21]\n",
    "'''\n",
    "\n",
    "def fun1(n):\n",
    "    return n*3\n",
    "\n",
    "New_list =list(map(fun1,[1, 2, 3, 4, 5, 6, 7]))\n",
    "print(New_list)"
   ]
  },
  {
   "cell_type": "code",
   "execution_count": 20,
   "id": "1c351a31",
   "metadata": {},
   "outputs": [
    {
     "name": "stdout",
     "output_type": "stream",
     "text": [
      "[3, 6, 9, 12, 15, 18, 21]\n"
     ]
    }
   ],
   "source": [
    "#or\n",
    "using_lamdbda = list(map(lambda a: a*3,[1, 2, 3, 4, 5, 6, 7]))\n",
    "print(using_lamdbda)"
   ]
  },
  {
   "cell_type": "code",
   "execution_count": 21,
   "id": "9bd5b46c",
   "metadata": {},
   "outputs": [
    {
     "name": "stdout",
     "output_type": "stream",
     "text": [
      "[16, 25, 4, 81]\n"
     ]
    }
   ],
   "source": [
    "'''\n",
    "Write a Python program to square the elements of a list using map() function.\n",
    "\n",
    "Sample List: [4, 5, 2, 9]\n",
    "\n",
    "Square the elements of the list:\n",
    "\n",
    "[16, 25, 4, 81]\n",
    "'''\n",
    "\n",
    "def sq_fun(num):\n",
    "    return num**2\n",
    "\n",
    "sq_list =list(map(sq_fun,[4, 5, 2, 9]))\n",
    "print(sq_list)"
   ]
  },
  {
   "cell_type": "code",
   "execution_count": 23,
   "id": "08ab54f1",
   "metadata": {},
   "outputs": [
    {
     "name": "stdout",
     "output_type": "stream",
     "text": [
      "[16, 25, 4, 81]\n"
     ]
    }
   ],
   "source": [
    "#Or\n",
    "\n",
    "sq_list_using_lambda = list(map(lambda a: a**2,[4, 5, 2, 9]))\n",
    "print(sq_list_using_lambda)"
   ]
  },
  {
   "cell_type": "code",
   "execution_count": null,
   "id": "9d1e9eac",
   "metadata": {},
   "outputs": [],
   "source": []
  }
 ],
 "metadata": {
  "kernelspec": {
   "display_name": "Python 3",
   "language": "python",
   "name": "python3"
  },
  "language_info": {
   "codemirror_mode": {
    "name": "ipython",
    "version": 3
   },
   "file_extension": ".py",
   "mimetype": "text/x-python",
   "name": "python",
   "nbconvert_exporter": "python",
   "pygments_lexer": "ipython3",
   "version": "3.8.8"
  }
 },
 "nbformat": 4,
 "nbformat_minor": 5
}
