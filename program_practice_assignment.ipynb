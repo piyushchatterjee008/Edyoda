{
  "cells": [
    {
      "cell_type": "code",
      "execution_count": null,
      "metadata": {
        "colab": {
          "base_uri": "https://localhost:8080/"
        },
        "id": "NHSXftCNir9G",
        "outputId": "0ae8ad79-78d4-4550-df35-1e3614cf8e3e"
      },
      "outputs": [
        {
          "name": "stdout",
          "output_type": "stream",
          "text": [
            "enter any no 121\n",
            "121  is a palindrome\n"
          ]
        }
      ],
      "source": [
        "#no is palindrome or not\n",
        "\n",
        "num = int(input(\"enter any no \"))\n",
        "num= str(num)\n",
        "revn= num[::-1]\n",
        "\n",
        "if num==revn:\n",
        "  print(num,\" is a palindrome\")\n",
        "else:\n",
        "  print(num, \" is not a palindrome\")"
      ]
    },
    {
      "cell_type": "code",
      "execution_count": null,
      "metadata": {
        "colab": {
          "base_uri": "https://localhost:8080/"
        },
        "id": "Qi0tecvyDxBm",
        "outputId": "bb6da459-4ffa-4305-c92c-93a5c4c54fa2"
      },
      "outputs": [
        {
          "name": "stdout",
          "output_type": "stream",
          "text": [
            "enter any no 122\n",
            "122 is a not a palindrome no\n"
          ]
        }
      ],
      "source": [
        "#no is palindrome or not without any build in fuction\n",
        "\n",
        "\n",
        "num = int(input(\"enter any no \"))\n",
        "temp=num\n",
        "rev=0\n",
        "\n",
        "while(num>0):\n",
        "  dig=num%10\n",
        "  rev= rev*10+dig\n",
        "  num=num//10\n",
        "\n",
        "if temp==rev:\n",
        "  print(temp,\" is a plindrome no\")\n",
        "\n",
        "else:\n",
        "  print(temp, \"is a not a palindrome no\")\n",
        "\n"
      ]
    },
    {
      "cell_type": "code",
      "execution_count": null,
      "metadata": {
        "colab": {
          "base_uri": "https://localhost:8080/"
        },
        "id": "DyYCcKPMfTyD",
        "outputId": "ea984f57-041a-4329-f011-a177d6f47aae"
      },
      "outputs": [
        {
          "name": "stdout",
          "output_type": "stream",
          "text": [
            "enter any int: 5\n",
            "1\n",
            "\n",
            "22\n",
            "\n",
            "333\n",
            "\n",
            "4444\n",
            "\n",
            "55555\n",
            "\n"
          ]
        }
      ],
      "source": [
        "#2 pattern \n",
        "'''\n",
        "1\n",
        "22\n",
        "333\n",
        "4444\n",
        "55555\n",
        "'''\n",
        "n=int(input(\"enter any int: \"))\n",
        "for i in range(1,n+1):\n",
        "  for j in range(i):\n",
        "    print(i, end=\"\")\n",
        "  print(\"\\n\")\n",
        "    "
      ]
    },
    {
      "cell_type": "code",
      "execution_count": null,
      "metadata": {
        "colab": {
          "base_uri": "https://localhost:8080/"
        },
        "id": "Gis7-Qpmkkey",
        "outputId": "37754ad7-dcfd-46c5-f1c3-1ffa9d6fe845"
      },
      "outputs": [
        {
          "name": "stdout",
          "output_type": "stream",
          "text": [
            "# \n",
            "\n",
            "# # \n",
            "\n",
            "# # # \n",
            "\n",
            "# # # # \n",
            "\n",
            "# # # # # \n",
            "\n"
          ]
        }
      ],
      "source": [
        "#define fun to print\n",
        "\n",
        "'''\n",
        "#\n",
        "##\n",
        "###\n",
        "####\n",
        "#####\n",
        "'''\n",
        "\n",
        "def fun1(n):\n",
        "  for i in range(0,n):\n",
        "    for j in range(0,i+1):\n",
        "      print('#', end=\" \")\n",
        "    print(\"\\n\")\n",
        "\n",
        "fun1(5)"
      ]
    },
    {
      "cell_type": "code",
      "execution_count": null,
      "metadata": {
        "colab": {
          "base_uri": "https://localhost:8080/"
        },
        "id": "bpApu-0so41t",
        "outputId": "43d28259-5ece-4c3f-d1cc-92f6b8cc3f1a"
      },
      "outputs": [
        {
          "name": "stdout",
          "output_type": "stream",
          "text": [
            "0 \n",
            "\n",
            "0 1 \n",
            "\n",
            "0 1 2 \n",
            "\n",
            "0 1 2 3 \n",
            "\n",
            "0 1 2 3 4 \n",
            "\n"
          ]
        }
      ],
      "source": [
        "#print pattern\n",
        "\n",
        "'''\n",
        "0\n",
        "01\n",
        "012\n",
        "0123\n",
        "01234\n",
        "'''\n",
        "\n",
        "#outer loop handle the no of rows\n",
        "\n",
        "#inner loop handles the values\n",
        "\n",
        "def pattern2(num):\n",
        "  for i in range(0,num):\n",
        "    number=0\n",
        "    for j in range(0,i+1):\n",
        "      print(number, end=' ')\n",
        "      number= number+1\n",
        "    print('\\n')\n",
        "\n",
        "pattern2(5)"
      ]
    },
    {
      "cell_type": "code",
      "execution_count": null,
      "metadata": {
        "colab": {
          "base_uri": "https://localhost:8080/"
        },
        "id": "Y7RUTTHEkbgL",
        "outputId": "6ea20610-fbf1-4849-833e-13ad41c4c526"
      },
      "outputs": [
        {
          "name": "stdout",
          "output_type": "stream",
          "text": [
            "enter the no of row: 5\n",
            "[[1], [1, 1], [1, 2, 1], [1, 3, 3, 1], [1, 4, 6, 4, 1]]\n",
            "    1 \n",
            "\n",
            "   1 1 \n",
            "\n",
            "  1 2 1 \n",
            "\n",
            " 1 3 3 1 \n",
            "\n",
            "1 4 6 4 1 \n",
            "\n"
          ]
        }
      ],
      "source": [
        "#pascal triange\n",
        "\n",
        "'''\n",
        "       1\n",
        "      1  1\n",
        "    1  2  1\n",
        "  1  3  3  1\n",
        "1  4  6  4  1\n",
        "\n",
        "'''\n",
        "\n",
        "n = int(input(\"enter the no of row: \"))\n",
        "list=[]\n",
        "\n",
        "for i in range(n):\n",
        "  temp_list=[]\n",
        "  for j in range(i+1):\n",
        "    if j==0 or j==i:\n",
        "      temp_list.append(1)\n",
        "    else:\n",
        "      temp_list.append(list[i-1][j-1] + list[i-1][j])\n",
        "  list.append(temp_list)\n",
        "\n",
        "print(list)\n",
        "\n",
        "for i in range (n):\n",
        "  for j in range (n-i-1):\n",
        "    print (\"\",end=\" \")\n",
        "  for j in range (i+1):\n",
        "      print (list[i][j],end=\" \")\n",
        "  print(\"\\n\")"
      ]
    },
    {
      "cell_type": "code",
      "execution_count": null,
      "metadata": {
        "colab": {
          "base_uri": "https://localhost:8080/"
        },
        "id": "WBbIg_NRWwxK",
        "outputId": "529c5226-8c4c-40d4-ab5a-6748d7d264d2"
      },
      "outputs": [
        {
          "name": "stdout",
          "output_type": "stream",
          "text": [
            "A \n",
            "\n",
            "B B \n",
            "\n",
            "C C C \n",
            "\n",
            "D D D D \n",
            "\n",
            "E E E E E \n",
            "\n"
          ]
        }
      ],
      "source": [
        "#print folowing pattern\n",
        "\n",
        "'''\n",
        "A\n",
        "BB\n",
        "CCC\n",
        "DDDD\n",
        "'''\n",
        "def char_pattern(n):\n",
        "  number =65\n",
        "  for i in range(0, n):\n",
        "    for j in range(0,i+1):\n",
        "      char= chr(number)\n",
        "      print(char, end=\" \")\n",
        "\n",
        "    number= number+1 \n",
        "    print(\"\\n\")\n",
        "\n",
        "\n",
        "char_pattern(5)"
      ]
    },
    {
      "cell_type": "code",
      "execution_count": null,
      "metadata": {
        "colab": {
          "base_uri": "https://localhost:8080/"
        },
        "id": "PVvCePdVZ2Oj",
        "outputId": "4306d11f-6526-42fb-8489-90d19c3b8673"
      },
      "outputs": [
        {
          "name": "stdout",
          "output_type": "stream",
          "text": [
            "A \r\n",
            "B C \r\n",
            "D E F \r\n",
            "G H I J \r\n",
            "K L M N O \r\n",
            "P Q R S T U \r\n",
            "V W X Y Z [ \\ \r\n"
          ]
        }
      ],
      "source": [
        "#print folowing pattern\n",
        "\n",
        "'''\n",
        "A\n",
        "BC\n",
        "DEF\n",
        "GHIJ\n",
        "'''\n",
        "\n",
        "def char_pattern(n):\n",
        "  number =65\n",
        "  for i in range(n):\n",
        "    for j in range(i+1):\n",
        "      char= chr(number)\n",
        "      number=number+1\n",
        "      print(char, end=' ')\n",
        "      #ending line after each row\n",
        "    print('\\r')\n",
        "\n",
        "char_pattern(7)"
      ]
    },
    {
      "cell_type": "code",
      "execution_count": null,
      "metadata": {
        "colab": {
          "base_uri": "https://localhost:8080/"
        },
        "id": "GInynTFhb2WO",
        "outputId": "aa33b8be-db88-43e1-92d4-21c4a6fdcef8"
      },
      "outputs": [
        {
          "data": {
            "text/plain": [
              "dict_values([11, 21, 31])"
            ]
          },
          "execution_count": 22,
          "metadata": {},
          "output_type": "execute_result"
        }
      ],
      "source": [
        "'''\n",
        "11. If you have a dictionary like this -> d1={\"k1\":10,k2:20, k3\":30}. How would you increment values of all the\n",
        "Keys?\n",
        "'''\n",
        "\n",
        "d1= {\"k1\":10,\"k2\":20, \"k3\":30}\n",
        "\n",
        "for i in d1.keys():\n",
        "  d1[i]=d1[i]+1\n",
        "\n",
        "d1.values()\n"
      ]
    },
    {
      "cell_type": "code",
      "execution_count": null,
      "metadata": {
        "colab": {
          "base_uri": "https://localhost:8080/"
        },
        "id": "RX5cImuuc6P4",
        "outputId": "1da5a8e1-9769-4942-bbe4-593c4120ea9b"
      },
      "outputs": [
        {
          "name": "stdout",
          "output_type": "stream",
          "text": [
            "0.6827185091039227\n",
            "15\n"
          ]
        }
      ],
      "source": [
        "#print the random no using random lib\n",
        "\n",
        "import random\n",
        "\n",
        "n = random.random()\n",
        "print(n)\n",
        "\n",
        "#print the random in range\n",
        "\n",
        "n1= random.randint(10,90)\n",
        "print(n1)"
      ]
    },
    {
      "cell_type": "code",
      "execution_count": null,
      "metadata": {
        "colab": {
          "base_uri": "https://localhost:8080/"
        },
        "id": "MHazsSs3jik8",
        "outputId": "a0a93ccb-020c-4365-a504-60e73170136e"
      },
      "outputs": [
        {
          "name": "stdout",
          "output_type": "stream",
          "text": [
            "(1, 'hello')\n",
            "{'name': 'hellboy'}\n"
          ]
        }
      ],
      "source": [
        "#denotes the uses of args and kwargs in python\n",
        "\n",
        "def fun1(*args, **kwargs):\n",
        "  print(args)\n",
        "  print(kwargs)\n",
        "\n",
        "fun1(1,'hello', name=\"hellboy\")"
      ]
    },
    {
      "cell_type": "code",
      "execution_count": null,
      "metadata": {
        "colab": {
          "base_uri": "https://localhost:8080/"
        },
        "id": "07pinq58knro",
        "outputId": "21e07947-eb8e-4b43-a826-c5c82e6623c0"
      },
      "outputs": [
        {
          "name": "stdout",
          "output_type": "stream",
          "text": [
            "[10, 12, 13, 14, 15, 16]\n",
            "[10, 12, 13, 14, 15, 16]\n"
          ]
        }
      ],
      "source": [
        " #how do you shallow copy in python ?\n",
        "\n",
        "l1= [10,12,13,14,15]\n",
        "\n",
        "l2= l1\n",
        "\n",
        "l2.append(16)\n",
        "\n",
        "print(l1)\n",
        "print(l2)\n",
        "#because l1 and l2 has same memory location"
      ]
    },
    {
      "cell_type": "code",
      "execution_count": null,
      "metadata": {
        "colab": {
          "base_uri": "https://localhost:8080/"
        },
        "id": "IRKjogQulqLs",
        "outputId": "c1bebd53-0598-45da-8db7-d1a08a0557c2"
      },
      "outputs": [
        {
          "data": {
            "text/plain": [
              "[9, 8, 7]"
            ]
          },
          "execution_count": 31,
          "metadata": {},
          "output_type": "execute_result"
        }
      ],
      "source": [
        "#15. what will be the output of the following piece of code ?\n",
        "a=[1,2,3,4,5,6,7,8,9]\n",
        "a[-1:-4:-1]"
      ]
    },
    {
      "cell_type": "code",
      "execution_count": null,
      "metadata": {
        "colab": {
          "base_uri": "https://localhost:8080/"
        },
        "id": "fsCqmQSAmK5g",
        "outputId": "bc2398bb-b5c0-4bb4-f079-75ff6142602a"
      },
      "outputs": [
        {
          "name": "stdout",
          "output_type": "stream",
          "text": [
            "the asci value of Z is 90\n"
          ]
        }
      ],
      "source": [
        "#16. How do you print the ASCll value of a given character?\n",
        "\n",
        "value = 'Z'\n",
        "\n",
        "print(\"the asci value of\",value,\"is\",ord(value))"
      ]
    },
    {
      "cell_type": "code",
      "execution_count": null,
      "metadata": {
        "colab": {
          "base_uri": "https://localhost:8080/"
        },
        "id": "PMH41VFXmkhY",
        "outputId": "e7564968-ac7a-4ced-fe8d-bf65014bcff7"
      },
      "outputs": [
        {
          "name": "stdout",
          "output_type": "stream",
          "text": [
            "['ram', 'lakshman', 'sita', 'hanuman']\n",
            "['hanuman', 'lakshman', 'ram', 'sita']\n"
          ]
        }
      ],
      "source": [
        "\n",
        "#17 what is easiest way to shuffle a list ?\n",
        "\n",
        "from random import shuffle \n",
        "\n",
        "values=['ram','lakshman','sita','hanuman']\n",
        "print(values)\n",
        "\n",
        "shuffle(values)\n",
        "\n",
        "print(values)"
      ]
    },
    {
      "cell_type": "code",
      "execution_count": null,
      "metadata": {
        "colab": {
          "base_uri": "https://localhost:8080/"
        },
        "id": "8nAs3grQoOZM",
        "outputId": "63d93898-8a7c-468a-df51-a36937e225e8"
      },
      "outputs": [
        {
          "name": "stdout",
          "output_type": "stream",
          "text": [
            "2\n",
            "-4\n",
            "3.0\n",
            "-4.0\n"
          ]
        }
      ],
      "source": [
        "#18 how does floor division works ?\n",
        "\n",
        "#removes the floting point and return the nearest lowest value \n",
        "\n",
        "print (5//2)\n",
        "print(-7//2)\n",
        "print (7.0//2)\n",
        "print(-7.0//2)"
      ]
    },
    {
      "cell_type": "code",
      "execution_count": null,
      "metadata": {
        "colab": {
          "base_uri": "https://localhost:8080/"
        },
        "id": "9eZrMDkio2lV",
        "outputId": "a1c81028-0f9e-49f3-e979-5f8954711106"
      },
      "outputs": [
        {
          "name": "stdout",
          "output_type": "stream",
          "text": [
            "[1, 2, 3]\n",
            "[1, 2, 3, 4]\n"
          ]
        }
      ],
      "source": [
        "#19. Denote the usage of pass by value and pass by reference\n",
        "\n",
        "#also called call by value call by refrence\n",
        "\n",
        "def check_pass(arr):\n",
        "  arr.append(4)\n",
        "\n",
        "arr = [1,2,3]\n",
        "\n",
        "print(arr) #call by value\n",
        "\n",
        "check_pass(arr)\n",
        "print(arr) #call by refrence\n"
      ]
    },
    {
      "cell_type": "code",
      "execution_count": null,
      "metadata": {
        "colab": {
          "base_uri": "https://localhost:8080/",
          "height": 35
        },
        "id": "0iu-sCOYqbiy",
        "outputId": "5444189f-399f-43f1-ed0a-ef145aba3164"
      },
      "outputs": [
        {
          "data": {
            "application/vnd.google.colaboratory.intrinsic+json": {
              "type": "string"
            },
            "text/plain": [
              "'dlrow olleH'"
            ]
          },
          "execution_count": 41,
          "metadata": {},
          "output_type": "execute_result"
        }
      ],
      "source": [
        "#20. What is the output of the following piece of code?\n",
        "\n",
        "\"Hello world\"[::-1]"
      ]
    },
    {
      "cell_type": "code",
      "execution_count": null,
      "metadata": {
        "colab": {
          "base_uri": "https://localhost:8080/"
        },
        "id": "60fanHOnqvG5",
        "outputId": "91b74bd1-dac7-4a84-e121-a5c33e3e1db1"
      },
      "outputs": [
        {
          "data": {
            "text/plain": [
              "[1, 2, 3, 4, 1, 2, 3, 4]"
            ]
          },
          "execution_count": 42,
          "metadata": {},
          "output_type": "execute_result"
        }
      ],
      "source": [
        "#21. What is the output of this operation on a list: list x 2?\n",
        "\n",
        "list1 =[1,2,3,4]\n",
        "list1*2"
      ]
    },
    {
      "cell_type": "code",
      "execution_count": null,
      "metadata": {
        "colab": {
          "base_uri": "https://localhost:8080/"
        },
        "id": "IE6H7jx2rFzQ",
        "outputId": "1631e921-ff34-494a-8ed2-e47448a066c9"
      },
      "outputs": [
        {
          "name": "stdout",
          "output_type": "stream",
          "text": [
            "enter the no: 153\n",
            "153  is a armstrong no\n"
          ]
        }
      ],
      "source": [
        "#22. Write the logic to check if a given number is an Armstrong number or not\n",
        "\n",
        "num = int(input(\"enter the no: \"))\n",
        "sum =0\n",
        "n=len(str(num))\n",
        "temp=num\n",
        "while(num>0):\n",
        "  digit=num%10\n",
        "  sum= sum+ digit **n \n",
        "  num= num//10\n",
        "\n",
        "if(temp==sum):\n",
        "  print(temp,\" is a armstrong no\")\n",
        "else:\n",
        "  print(temp,\" is not a armstrong no\")\n"
      ]
    },
    {
      "cell_type": "code",
      "execution_count": null,
      "metadata": {
        "colab": {
          "base_uri": "https://localhost:8080/"
        },
        "id": "kst_KZFisX-q",
        "outputId": "8a77f8e1-028d-49eb-dfbb-b80ea92747ea"
      },
      "outputs": [
        {
          "name": "stdout",
          "output_type": "stream",
          "text": [
            "enter the no: 8\n",
            "8  is not a perfect no\n"
          ]
        }
      ],
      "source": [
        "#23. Write the logic to print a perfect number in Python\n",
        "\n",
        "num = int(input(\"enter the no: \"))\n",
        "res=0\n",
        "\n",
        "for i in range(1, num):\n",
        "  if(num%i)==0:\n",
        "    res=res+i\n",
        "    \n",
        "if(num==res):\n",
        "  print(num,\" is a perfect no\")\n",
        "else:\n",
        "  print(num,\" is not a perfect no\")\n",
        "\n"
      ]
    },
    {
      "cell_type": "code",
      "execution_count": null,
      "metadata": {
        "colab": {
          "base_uri": "https://localhost:8080/"
        },
        "id": "YwMl_r5XuF0d",
        "outputId": "296c5e99-aa9f-4a6b-dd7d-a95560acfa11"
      },
      "outputs": [
        {
          "name": "stdout",
          "output_type": "stream",
          "text": [
            "enter the no: 121\n",
            "121 is not a strong no\n"
          ]
        }
      ],
      "source": [
        "#24. Write the logic to print a strong number in Python\n",
        "#sum of factorial of each number must be the same as input 145- 1!+ 41+ 51 145\n",
        "\n",
        "num = int(input(\"enter the no: \"))\n",
        "sum=0\n",
        "strong=num\n",
        "\n",
        "while num>0:\n",
        "  lastdigit= num%10\n",
        "  f=1\n",
        "  for i in range(1,lastdigit+1):\n",
        "    f=f*i\n",
        "  sum=sum+f \n",
        "  num=num//10\n",
        "\n",
        "if strong==sum:\n",
        "  print(strong,\"is a strong no\")\n",
        "else:\n",
        "  print(strong,\"is not a strong no\")\n"
      ]
    },
    {
      "cell_type": "code",
      "execution_count": null,
      "metadata": {
        "colab": {
          "base_uri": "https://localhost:8080/"
        },
        "id": "d-bXps0OwuQW",
        "outputId": "3f21e956-a9ae-467e-f3b1-cad5ad1041b9"
      },
      "outputs": [
        {
          "name": "stdout",
          "output_type": "stream",
          "text": [
            "enter the no of elements : 5\n",
            "enter the elements : 123\n",
            "enter the elements : 1321\n",
            "enter the elements : 12\n",
            "enter the elements : 433\n",
            "enter the elements : 76\n",
            "second largest no of  [12, 76, 123, 433, 1321] is 433\n"
          ]
        }
      ],
      "source": [
        "#25. Write a program to find out the second largest number in a list\n",
        "\n",
        "sample_list=[]\n",
        "\n",
        "n = int(input(\"enter the no of elements : \"))\n",
        "\n",
        "for i in range(1,n+1):\n",
        "  b=int(input(\"enter the elements : \"))\n",
        "  sample_list.append(b)\n",
        "  sample_list.sort()\n",
        "\n",
        "print(\"second largest no of \",sample_list, \"is\",sample_list[n-2])"
      ]
    },
    {
      "cell_type": "code",
      "execution_count": null,
      "metadata": {
        "colab": {
          "base_uri": "https://localhost:8080/"
        },
        "id": "Li860Yd_zh6H",
        "outputId": "0557a652-b509-4a16-c89f-3b82ddb87d68"
      },
      "outputs": [
        {
          "data": {
            "text/plain": [
              "[1321, 76, 123, 433, 12]"
            ]
          },
          "execution_count": 75,
          "metadata": {},
          "output_type": "execute_result"
        }
      ],
      "source": [
        "#26. What is the logIC to quickly swap the first and last elements in a list ?\n",
        "\n",
        "def swap_fun(sample_list):\n",
        "  size= len(sample_list)\n",
        "\n",
        "  temp =sample_list[0]\n",
        "  sample_list[0]= sample_list[size-1]\n",
        "  sample_list[size-1]=temp\n",
        "\n",
        "  return sample_list\n",
        "  \n",
        "swap_fun([12, 76, 123, 433, 1321])"
      ]
    },
    {
      "cell_type": "code",
      "execution_count": null,
      "metadata": {
        "colab": {
          "base_uri": "https://localhost:8080/"
        },
        "id": "orhWJgnT19-l",
        "outputId": "338a1587-6477-4d24-aa25-321137d86dfa"
      },
      "outputs": [
        {
          "name": "stdout",
          "output_type": "stream",
          "text": [
            "{'a': 0, 'e': 4, 'i': 0, 'o': 1, 'u': 0}\n"
          ]
        }
      ],
      "source": [
        "#27.Write a program to count the number of vowels present in an input string.\n",
        "\n",
        "# Count vowels in a different way\n",
        "# Using dictionary\n",
        "def Check_Vow(string, vowels):\n",
        "\t\n",
        "\t# casefold has been used to ignore cases\n",
        "\tstring = string.casefold()\n",
        "\t\n",
        "\t# Forms a dictionary with key as a vowel\n",
        "\t# and the value as 0\n",
        "\tcount = {}.fromkeys(vowels, 0)\n",
        "\t\n",
        "\t# To count the vowels\n",
        "\tfor character in string:\n",
        "\t\tif character in count:\n",
        "\t\t\tcount[character] += 1\n",
        "\treturn count\n",
        "\t\n",
        "# Driver Code\n",
        "vowels = 'aeiou'\n",
        "string = \"Geeks for Geeks\"\n",
        "print (Check_Vow(string, vowels))\n",
        "\n"
      ]
    },
    {
      "cell_type": "code",
      "execution_count": null,
      "metadata": {
        "colab": {
          "base_uri": "https://localhost:8080/"
        },
        "id": "ZSUI8Ce73yoX",
        "outputId": "b16577a3-53a2-460c-9fa3-9dc28aea0470"
      },
      "outputs": [
        {
          "data": {
            "text/plain": [
              "{'a': 2, 'e': 3, 'i': 1, 'o': 2, 'u': 1}"
            ]
          },
          "execution_count": 81,
          "metadata": {},
          "output_type": "execute_result"
        }
      ],
      "source": [
        "string=\"you will never walk alone\"\n",
        "vowels = 'aeiou'\n",
        "\n",
        "def check_vow(string,vowels):\n",
        "  string= string.casefold()\n",
        "\n",
        "  count ={}.fromkeys(vowels,0)\n",
        "\n",
        "  for i in string:\n",
        "    if i in vowels:\n",
        "      count[i]=count[i]+1\n",
        "  return count\n",
        "\n",
        "check_vow(string,vowels)"
      ]
    },
    {
      "cell_type": "code",
      "execution_count": null,
      "metadata": {
        "colab": {
          "base_uri": "https://localhost:8080/"
        },
        "id": "de0vvl6Z46Ub",
        "outputId": "cfdd4dfd-8b6c-431f-a833-c2ef2b374227"
      },
      "outputs": [
        {
          "name": "stdout",
          "output_type": "stream",
          "text": [
            "[['geeks', 'for', 'geeks'], ['like', 'geeky', 'nerdy'], ['geek', 'love', 'questions'], ['words', 'life']]\n"
          ]
        }
      ],
      "source": [
        "#28. How do you break a list into n chunks using Python?\n",
        "\n",
        "n=3\n",
        "\n",
        "my_list = ['geeks', 'for', 'geeks', 'like',\n",
        "           'geeky','nerdy', 'geek', 'love',\n",
        "               'questions','words', 'life']\n",
        "\n",
        "l=len(my_list)\n",
        "\n",
        "out =[my_list[i:i + n] for i in range(0,l,n)]\n",
        "  \n",
        "print(out)\n",
        "      "
      ]
    },
    {
      "cell_type": "code",
      "execution_count": null,
      "metadata": {
        "colab": {
          "base_uri": "https://localhost:8080/"
        },
        "id": "LENLyna-6lCU",
        "outputId": "319bcc98-bfb7-4098-f06a-0c371a4cf333"
      },
      "outputs": [
        {
          "name": "stdout",
          "output_type": "stream",
          "text": [
            "Enter first number: 10\n",
            "Enter second number:0\n",
            "Cannot divide by zero! \n"
          ]
        }
      ],
      "source": [
        "#working with python exceptionhandling\n",
        "\n",
        "try:\n",
        "  x = int(input (\"Enter first number: \"))\n",
        "  y = int(input (\"Enter second number:\"))\n",
        "  z = x/y\n",
        "  print (\"The output is \",z)\n",
        "except:\n",
        "  print(\"Cannot divide by zero! \")\n",
        "else:\n",
        "  print(\"This is the else block!! \")"
      ]
    },
    {
      "cell_type": "code",
      "execution_count": null,
      "metadata": {
        "colab": {
          "base_uri": "https://localhost:8080/"
        },
        "id": "0FEJaHIv7qOq",
        "outputId": "1dddcd55-f8e3-4aab-cf7c-ab8e24870ed7"
      },
      "outputs": [
        {
          "name": "stdout",
          "output_type": "stream",
          "text": [
            "can not divided by zero\n",
            "This piece of code always exicuted !!\n"
          ]
        }
      ],
      "source": [
        "#what does finally block do in python?\n",
        "\n",
        "try:\n",
        "  x=5//0\n",
        "  print(x)\n",
        "\n",
        "except ZeroDivisionError:\n",
        "  print(\"can not divided by zero\")\n",
        "\n",
        "finally:\n",
        "  print('This piece of code always exicuted !!')"
      ]
    },
    {
      "cell_type": "code",
      "execution_count": null,
      "metadata": {
        "colab": {
          "base_uri": "https://localhost:8080/"
        },
        "id": "-HM5_7Im8i2e",
        "outputId": "8145cac1-4f91-48a9-b4d4-14a9bb0769fb"
      },
      "outputs": [
        {
          "name": "stdout",
          "output_type": "stream",
          "text": [
            "21\n"
          ]
        }
      ],
      "source": [
        "'''3\n",
        "Krishna 67 68 69\n",
        "Arjun 70 98 63\n",
        "\n",
        "Malika 52 56 60\n",
        "Malika\n",
        "\n",
        "56.00\n",
        "\n",
        "'''\n",
        "student_marks = {}\n",
        "n = int(input(\"how many student\"))\n",
        "\n",
        "for i in range(n):\n",
        "    student_marks[i].add(input())"
      ]
    },
    {
      "cell_type": "code",
      "execution_count": null,
      "metadata": {
        "colab": {
          "base_uri": "https://localhost:8080/",
          "height": 299
        },
        "id": "wQeeX0aBgaPh",
        "outputId": "18766128-1af9-4c7d-eae3-a586cff41d73"
      },
      "outputs": [
        {
          "name": "stdout",
          "output_type": "stream",
          "text": [
            "1\n",
            "Malika 52 56 60\n",
            "Malika\n"
          ]
        },
        {
          "ename": "TypeError",
          "evalue": "ignored",
          "output_type": "error",
          "traceback": [
            "\u001b[0;31m---------------------------------------------------------------------------\u001b[0m",
            "\u001b[0;31mTypeError\u001b[0m                                 Traceback (most recent call last)",
            "\u001b[0;32m<ipython-input-15-59e35ff0c111>\u001b[0m in \u001b[0;36m<module>\u001b[0;34m()\u001b[0m\n\u001b[1;32m     11\u001b[0m     \u001b[0;31m# Finding the percentage in Python - Hacker Rank Solution START\u001b[0m\u001b[0;34m\u001b[0m\u001b[0;34m\u001b[0m\u001b[0;34m\u001b[0m\u001b[0m\n\u001b[1;32m     12\u001b[0m     \u001b[0moutput\u001b[0m \u001b[0;34m=\u001b[0m \u001b[0mlist\u001b[0m\u001b[0;34m(\u001b[0m\u001b[0mstudent_marks\u001b[0m\u001b[0;34m[\u001b[0m\u001b[0mquery_name\u001b[0m\u001b[0;34m]\u001b[0m\u001b[0;34m)\u001b[0m\u001b[0;34m\u001b[0m\u001b[0;34m\u001b[0m\u001b[0m\n\u001b[0;32m---> 13\u001b[0;31m     \u001b[0mper\u001b[0m \u001b[0;34m=\u001b[0m \u001b[0msum\u001b[0m\u001b[0;34m(\u001b[0m\u001b[0moutput\u001b[0m\u001b[0;34m)\u001b[0m\u001b[0;34m/\u001b[0m\u001b[0mlen\u001b[0m\u001b[0;34m(\u001b[0m\u001b[0moutput\u001b[0m\u001b[0;34m)\u001b[0m\u001b[0;34m\u001b[0m\u001b[0;34m\u001b[0m\u001b[0m\n\u001b[0m\u001b[1;32m     14\u001b[0m     \u001b[0mprint\u001b[0m\u001b[0;34m(\u001b[0m\u001b[0;34m\"%.2f\"\u001b[0m \u001b[0;34m%\u001b[0m \u001b[0mper\u001b[0m\u001b[0;34m)\u001b[0m\u001b[0;34m\u001b[0m\u001b[0;34m\u001b[0m\u001b[0m\n\u001b[1;32m     15\u001b[0m     \u001b[0;31m# Finding the percentage in Python - Hacker Rank Solution END\u001b[0m\u001b[0;34m\u001b[0m\u001b[0;34m\u001b[0m\u001b[0;34m\u001b[0m\u001b[0m\n",
            "\u001b[0;31mTypeError\u001b[0m: 'int' object is not callable"
          ]
        }
      ],
      "source": [
        "# Finding the percentage in Python - Hacker Rank Solution\n",
        "if __name__ == '__main__':\n",
        "    n = int(input())\n",
        "    student_marks = {}\n",
        "    for _ in range(n):\n",
        "        name, *line = input().split()\n",
        "        scores = list(map(float, line))\n",
        "        student_marks[name] = scores\n",
        "    query_name = input()\n",
        "\n",
        "    # Finding the percentage in Python - Hacker Rank Solution START\n",
        "    output = list(student_marks[query_name])\n",
        "    per = sum(output)/len(output)\n",
        "    print(\"%.2f\" % per)\n",
        "    # Finding the percentage in Python - Hacker Rank Solution END\n",
        "   "
      ]
    },
    {
      "cell_type": "code",
      "execution_count": null,
      "metadata": {
        "id": "4aXidPOIxdUI"
      },
      "outputs": [],
      "source": [
        "\n",
        "n = int(input())\n",
        "student_marks = {}\n",
        "    \n",
        "    \n",
        "for i,j in range(n):\n",
        "  name_scores = input()\n",
        "        #paring string\n",
        "  new_str=name_scores.split(\" \")\n",
        "  print(new_str)\n",
        "        \n",
        "        \n",
        "        \n",
        "        # student_marks[i]=name\n",
        "        # student_marks[j]=float(marks)\n",
        "        \n",
        "        \n",
        "    # query_name = input()\n"
      ]
    },
    {
      "cell_type": "code",
      "execution_count": null,
      "metadata": {
        "colab": {
          "background_save": true
        },
        "id": "J7Q6DE2-7npC",
        "outputId": "86ca0426-4320-44e9-9ea2-8ce49f7baea9"
      },
      "outputs": [
        {
          "name": "stdout",
          "output_type": "stream",
          "text": [
            "['chirag', '23', '23', '232']\n"
          ]
        },
        {
          "ename": "NameError",
          "evalue": "ignored",
          "output_type": "error",
          "traceback": [
            "\u001b[0;31m---------------------------------------------------------------------------\u001b[0m",
            "\u001b[0;31mNameError\u001b[0m                                 Traceback (most recent call last)",
            "\u001b[0;32m<ipython-input-20-7d3c80af2d3d>\u001b[0m in \u001b[0;36m<module>\u001b[0;34m()\u001b[0m\n\u001b[1;32m      3\u001b[0m \u001b[0mprint\u001b[0m\u001b[0;34m(\u001b[0m\u001b[0mnew_str\u001b[0m\u001b[0;34m)\u001b[0m\u001b[0;34m\u001b[0m\u001b[0;34m\u001b[0m\u001b[0m\n\u001b[1;32m      4\u001b[0m \u001b[0;34m\u001b[0m\u001b[0m\n\u001b[0;32m----> 5\u001b[0;31m \u001b[0mprint\u001b[0m\u001b[0;34m(\u001b[0m\u001b[0mflot\u001b[0m\u001b[0;34m(\u001b[0m\u001b[0mnew_str\u001b[0m\u001b[0;34m[\u001b[0m\u001b[0;36m1\u001b[0m\u001b[0;34m:\u001b[0m\u001b[0;34m]\u001b[0m\u001b[0;34m)\u001b[0m\u001b[0;34m)\u001b[0m\u001b[0;34m\u001b[0m\u001b[0;34m\u001b[0m\u001b[0m\n\u001b[0m",
            "\u001b[0;31mNameError\u001b[0m: name 'flot' is not defined"
          ]
        }
      ],
      "source": [
        "new_str=\"chirag 23 23 232\"\n",
        "new_str=name_scores.split(\" \")\n",
        "print(new_str)"
      ]
    },
    {
      "cell_type": "code",
      "execution_count": null,
      "metadata": {
        "id": "ZXea_JF16ZF3"
      },
      "outputs": [],
      "source": [
        ""
      ]
    }
  ],
  "metadata": {
    "colab": {
      "collapsed_sections": [],
      "name": "program practice.ipynb",
      "provenance": []
    },
    "kernelspec": {
      "display_name": "Python 3",
      "name": "python3"
    },
    "language_info": {
      "name": "python"
    }
  },
  "nbformat": 4,
  "nbformat_minor": 0
}