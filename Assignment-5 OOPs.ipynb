{
 "cells": [
  {
   "cell_type": "code",
   "execution_count": 1,
   "id": "d0a11fb9",
   "metadata": {},
   "outputs": [],
   "source": [
    "'''\n",
    "Write a Python class to implement pow(x, n)\n",
    "\n",
    "Explanation:\n",
    "\n",
    "Use should be able to find the nth power of the x.(i.e x*x*x*x...n times)\n",
    "\n",
    "You must implement it using Class\n",
    "\n",
    "Sample Input:\n",
    "\n",
    "x: 10\n",
    "\n",
    "n: 2\n",
    "\n",
    "Sample Output: 100\n",
    "'''\n",
    "\n",
    "class PowerFun:\n",
    "    \n",
    "    def myPow(self, x, n):\n",
    "        \n",
    "        if x==0:return 0\n",
    "        if n==0 or x==1: return 1\n",
    "        \n",
    "        if (n>0):\n",
    "            res = self.myPow(x,n//2)\n",
    "            res = res*res\n",
    "            return x*res if n%2!=0 else res\n",
    "        \n",
    "        if n<0:   \n",
    "            res=self.myPow(x,abs(n))\n",
    "            return res if n>0 else 1/res"
   ]
  },
  {
   "cell_type": "code",
   "execution_count": 2,
   "id": "37bcfaa0",
   "metadata": {},
   "outputs": [
    {
     "data": {
      "text/plain": [
       "100"
      ]
     },
     "execution_count": 2,
     "metadata": {},
     "output_type": "execute_result"
    }
   ],
   "source": [
    "Pobj = PowerFun()\n",
    "Pobj.myPow(10,2)"
   ]
  },
  {
   "cell_type": "code",
   "execution_count": 3,
   "id": "d16768ac",
   "metadata": {},
   "outputs": [
    {
     "data": {
      "text/plain": [
       "1"
      ]
     },
     "execution_count": 3,
     "metadata": {},
     "output_type": "execute_result"
    }
   ],
   "source": [
    "Pobj.myPow(2,0)"
   ]
  },
  {
   "cell_type": "code",
   "execution_count": 4,
   "id": "dc2b1ac8",
   "metadata": {},
   "outputs": [
    {
     "data": {
      "text/plain": [
       "0"
      ]
     },
     "execution_count": 4,
     "metadata": {},
     "output_type": "execute_result"
    }
   ],
   "source": [
    "Pobj.myPow(0,2)"
   ]
  },
  {
   "cell_type": "code",
   "execution_count": 6,
   "id": "d6edaac6",
   "metadata": {},
   "outputs": [
    {
     "data": {
      "text/plain": [
       "0.125"
      ]
     },
     "execution_count": 6,
     "metadata": {},
     "output_type": "execute_result"
    }
   ],
   "source": [
    "Pobj.myPow(2,-3)"
   ]
  },
  {
   "cell_type": "code",
   "execution_count": 7,
   "id": "32d94d53",
   "metadata": {},
   "outputs": [
    {
     "data": {
      "text/plain": [
       "-8"
      ]
     },
     "execution_count": 7,
     "metadata": {},
     "output_type": "execute_result"
    }
   ],
   "source": [
    "Pobj.myPow(-2,3)"
   ]
  },
  {
   "cell_type": "code",
   "execution_count": 9,
   "id": "7d055aaa",
   "metadata": {},
   "outputs": [
    {
     "data": {
      "text/plain": [
       "-0.125"
      ]
     },
     "execution_count": 9,
     "metadata": {},
     "output_type": "execute_result"
    }
   ],
   "source": [
    "Pobj.myPow(-2,-3)"
   ]
  },
  {
   "cell_type": "code",
   "execution_count": null,
   "id": "b7348217",
   "metadata": {},
   "outputs": [],
   "source": []
  }
 ],
 "metadata": {
  "kernelspec": {
   "display_name": "Python 3",
   "language": "python",
   "name": "python3"
  },
  "language_info": {
   "codemirror_mode": {
    "name": "ipython",
    "version": 3
   },
   "file_extension": ".py",
   "mimetype": "text/x-python",
   "name": "python",
   "nbconvert_exporter": "python",
   "pygments_lexer": "ipython3",
   "version": "3.8.8"
  }
 },
 "nbformat": 4,
 "nbformat_minor": 5
}
