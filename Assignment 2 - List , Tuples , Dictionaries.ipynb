{
 "cells": [
  {
   "cell_type": "code",
   "execution_count": 8,
   "id": "eaad2be0",
   "metadata": {},
   "outputs": [
    {
     "name": "stdout",
     "output_type": "stream",
     "text": [
      "(2, 1)(1, 2)(2, 3)(4, 4)(2, 5)"
     ]
    }
   ],
   "source": [
    "'''\n",
    "1.Write a Python program to get a list, sorted in increasing order by the last element in each tuple from a given list of non-empty tuples\n",
    "\n",
    "Sample List : [(2, 5), (1, 2), (4, 4), (2, 3), (2, 1)]\n",
    "\n",
    "Expected Result : [(2, 1), (1, 2), (2, 3), (4, 4), (2, 5)]\n",
    "\n",
    "'''\n",
    "\n",
    "a=[(2, 5), (1, 2), (4, 4), (2, 3), (2, 1)]\n",
    "for j in range (1,len(a)) :\n",
    "    for i in range(len(a)-j) :\n",
    "        if a[i][1]>a[i+1][1] :\n",
    "            temp=a[i]\n",
    "            a[i]=a[i+1]\n",
    "            a[i+1]=temp\n",
    "for i in range(len(a)) :\n",
    "    print((a[i]), end='')\n",
    "\n"
   ]
  },
  {
   "cell_type": "code",
   "execution_count": 18,
   "id": "5aa0e9de",
   "metadata": {},
   "outputs": [
    {
     "name": "stdout",
     "output_type": "stream",
     "text": [
      "{'a': 97, 'b': 98, 'c': 99, 'd': 100, 'e': 101, 'f': 102, 'g': 103, 'h': 104, 'i': 105, 'j': 106, 'k': 107, 'l': 108, 'm': 109, 'n': 110, 'o': 111, 'p': 112, 'q': 113, 'r': 114, 's': 115, 't': 116, 'u': 117, 'v': 118, 'w': 119, 'x': 120, 'y': 121, 'z': 122}\n"
     ]
    }
   ],
   "source": [
    "'''\n",
    "2.Write a Python program to print a dictionary whose keys should be the alphabet from a-z and the value should be corresponding ASCII values\n",
    "\n",
    "\n",
    "Sample Output : {'a': 97, 'b': 98, 'c': 99, 'd': 100, 'e': 101, 'f': 102, 'g': 103, 'h': 104, 'i': 105, 'j': 106, 'k': 107, 'l': 108, 'm': 109, 'n': 110, 'o': 111, 'p': 112, 'q': 113, 'r': 114, 's': 115, 't': 116, 'u': 117, 'v': 118, 'w': 119, 'x': 120, 'y': 121, 'z': 122}\n",
    "\n",
    "'''\n",
    "\n",
    "my_dictionary = {'a': 97,\n",
    "                 'b': 98,\n",
    "                 'c': 99,\n",
    "                 'd': 100,\n",
    "                 'e': 101,\n",
    "                 'f': 102,\n",
    "                 'g': 103,\n",
    "                 'h': 104,\n",
    "                 'i': 105,\n",
    "                 'j': 106,\n",
    "                 'k': 107,\n",
    "                 'l': 108,\n",
    "                 'm': 109,\n",
    "                 'n': 110,\n",
    "                 'o': 111,\n",
    "                 'p': 112,\n",
    "                 'q': 113,\n",
    "                 'r': 114,\n",
    "                 's': 115,\n",
    "                 't': 116,\n",
    "                 'u': 117,\n",
    "                 'v': 118,\n",
    "                 'w': 119,\n",
    "                 'x': 120,\n",
    "                 'y': 121,\n",
    "                 'z': 122\n",
    "                }\n",
    "#for key,value in my_dictionary.items() :\n",
    "#print(key,value)\n",
    "print(my_dictionary)"
   ]
  },
  {
   "cell_type": "code",
   "execution_count": null,
   "id": "cf763acc",
   "metadata": {},
   "outputs": [],
   "source": []
  }
 ],
 "metadata": {
  "kernelspec": {
   "display_name": "Python 3",
   "language": "python",
   "name": "python3"
  },
  "language_info": {
   "codemirror_mode": {
    "name": "ipython",
    "version": 3
   },
   "file_extension": ".py",
   "mimetype": "text/x-python",
   "name": "python",
   "nbconvert_exporter": "python",
   "pygments_lexer": "ipython3",
   "version": "3.8.8"
  }
 },
 "nbformat": 4,
 "nbformat_minor": 5
}
