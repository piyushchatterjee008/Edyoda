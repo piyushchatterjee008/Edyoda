{
 "cells": [
  {
   "cell_type": "code",
   "execution_count": 1,
   "id": "94aaeb8e",
   "metadata": {},
   "outputs": [
    {
     "name": "stdout",
     "output_type": "stream",
     "text": [
      "0\n",
      "1\n",
      "1\n",
      "2\n",
      "3\n",
      "5\n",
      "8\n",
      "13\n",
      "21\n",
      "34\n"
     ]
    }
   ],
   "source": [
    "# Fibonacci series between 0 to 50\n",
    "\n",
    "'''\n",
    "Note : The Fibonacci Sequence is the series of numbers :\n",
    "\n",
    "0, 1, 1, 2, 3, 5, 8, 13, 21, ....\n",
    "\n",
    "Every next number is found by adding up the two numbers before it.\n",
    "\n",
    "Expected Output : 1 1 2 3 5 8 13 21 34\n",
    "\n",
    "'''\n",
    "\n",
    "first=0\n",
    "second=1\n",
    "\n",
    "print(first)\n",
    "\n",
    "while(second<=50):\n",
    "    print(second)\n",
    "    first,second=second,first+second"
   ]
  },
  {
   "cell_type": "code",
   "execution_count": 2,
   "id": "e9322e5b",
   "metadata": {},
   "outputs": [
    {
     "name": "stdout",
     "output_type": "stream",
     "text": [
      "Enter any word :Edyoda\n",
      "Reverse of your word is : adoydE\n"
     ]
    }
   ],
   "source": [
    "#Write a Python program that accepts a word from the user and reverse it.\n",
    "\n",
    "'''\n",
    "Sample Test Case\n",
    "\n",
    "Input : Edyoda\n",
    "output: adoydE\n",
    "'''\n",
    "\n",
    "\n",
    "User_input = input(\"Enter any word :\")\n",
    "\n",
    "print(\"Reverse of your word is :\",User_input[::-1])\n"
   ]
  },
  {
   "cell_type": "code",
   "execution_count": 6,
   "id": "7a994a0f",
   "metadata": {},
   "outputs": [
    {
     "name": "stdout",
     "output_type": "stream",
     "text": [
      "Number of even numbers : 4\n",
      "Number of odd numbers : 5\n"
     ]
    }
   ],
   "source": [
    "#Write a Python program to count the number of even and odd numbers from a series of numbers.\n",
    "\n",
    "'''\n",
    "Sample numbers : numbers = (1, 2, 3, 4, 5, 6, 7, 8, 9) \n",
    "Expected Output :\n",
    "\n",
    "Number of even numbers : 5\n",
    "Number of odd numbers : 4\n",
    "'''\n",
    "\n",
    "\n",
    "\n",
    "list_series =[1, 2, 3, 4, 5, 6, 7, 8, 9]\n",
    "count_e=0\n",
    "count_o=0\n",
    "for i in list_series:\n",
    "    if (i%2!=0):\n",
    "        #print(\"Numberic\",i, \"is odd\")\n",
    "        count_o=count_o+1\n",
    "    else:\n",
    "        #print(\"Numberic\",i, \"is even\")\n",
    "        count_e=count_e+1\n",
    "print(\"Number of even numbers :\",count_e)\n",
    "print(\"Number of odd numbers :\",count_o)"
   ]
  },
  {
   "cell_type": "code",
   "execution_count": null,
   "id": "26e7097d",
   "metadata": {},
   "outputs": [],
   "source": []
  }
 ],
 "metadata": {
  "kernelspec": {
   "display_name": "Python 3",
   "language": "python",
   "name": "python3"
  },
  "language_info": {
   "codemirror_mode": {
    "name": "ipython",
    "version": 3
   },
   "file_extension": ".py",
   "mimetype": "text/x-python",
   "name": "python",
   "nbconvert_exporter": "python",
   "pygments_lexer": "ipython3",
   "version": "3.8.8"
  }
 },
 "nbformat": 4,
 "nbformat_minor": 5
}
